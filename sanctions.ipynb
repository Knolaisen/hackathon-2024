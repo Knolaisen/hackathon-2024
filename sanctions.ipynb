{
 "cells": [
  {
   "cell_type": "code",
   "execution_count": 28,
   "metadata": {},
   "outputs": [],
   "source": [
    "import pandas as pd\n",
    "sanctions_path = \"task3/International Sanctions.csv\"\n",
    "company_path = \"task1/CompanyCustomers.csv\"\n",
    "private_path = \"task1/PrivateCustomers.csv\"\n",
    "\n",
    "sanctions_df = pd.read_csv(sanctions_path)\n",
    "company_df = pd.read_csv(company_path)\n",
    "private_df = pd.read_csv(private_path)\n",
    "# The \"Unnamed: 0\" column is not needed\n",
    "sanctions_df = sanctions_df.drop(columns=[\"Unnamed: 0\"])\n",
    "sanctions_df.head()\n",
    "\n",
    "sanctioned_people = sanctions_df[\"Name\"]\n",
    "sanctioned_people = sanctioned_people.str.lower()\n",
    "# Find if they are in the company or private customers\n",
    "# For company customers, merge and include a condition for matching countries\n",
    "company_sanctioned = pd.merge(company_df, sanctions_df, left_on=[\"CompanyName\", \"Country\"], right_on=[\"Name\", \"Country\"], how=\"inner\")\n",
    "\n",
    "# For private customers, merge and include a condition for matching countries\n",
    "private_sanctioned = pd.merge(private_df, sanctions_df, left_on=[\"CustomerName\", \"Country\"], right_on=[\"Name\", \"Country\"], how=\"inner\")\n",
    "\n",
    "\n",
    "real_company_sanction = company_sanctioned[company_sanctioned[\"LastODD\"] > company_sanctioned[\"Registered\"]]\n",
    "real_private_sanction = private_sanctioned[private_sanctioned[\"LastODD\"] > private_sanctioned[\"Registered\"]]\n",
    "\n",
    "# Save the real sanctions in csv\n",
    "real_company_sanction.to_csv(\"task3/CompanySanctioned.csv\")\n",
    "real_private_sanction.to_csv(\"task3/PrivateSanctioned.csv\")\n",
    "\n",
    "# Check \n",
    "# Sanctioned people was 65"
   ]
  }
 ],
 "metadata": {
  "kernelspec": {
   "display_name": "Python 3",
   "language": "python",
   "name": "python3"
  },
  "language_info": {
   "codemirror_mode": {
    "name": "ipython",
    "version": 3
   },
   "file_extension": ".py",
   "mimetype": "text/x-python",
   "name": "python",
   "nbconvert_exporter": "python",
   "pygments_lexer": "ipython3",
   "version": "3.10.12"
  }
 },
 "nbformat": 4,
 "nbformat_minor": 2
}
