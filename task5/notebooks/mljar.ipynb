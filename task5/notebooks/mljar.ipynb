{
 "cells": [
  {
   "cell_type": "markdown",
   "metadata": {},
   "source": [
    "# AutoMlJar"
   ]
  },
  {
   "cell_type": "markdown",
   "metadata": {},
   "source": [
    "## Setup\n",
    "### Correct the path"
   ]
  },
  {
   "cell_type": "code",
   "execution_count": 1,
   "metadata": {},
   "outputs": [
    {
     "data": {
      "text/plain": [
       "'/home/sverre/Downloads/hackathon-2024/task5/notebooks'"
      ]
     },
     "execution_count": 1,
     "metadata": {},
     "output_type": "execute_result"
    }
   ],
   "source": [
    "import sys\n",
    "import os\n",
    "\n",
    "# Get the current working directory\n",
    "current_working_directory = os.getcwd()\n",
    "\n",
    "# Go up one level from the current working directory\n",
    "parent_directory = os.path.join(current_working_directory, '..')\n",
    "\n",
    "# Add the parent directory to sys.path\n",
    "sys.path.append(parent_directory)\n",
    "\n",
    "os.getcwd()"
   ]
  },
  {
   "cell_type": "code",
   "execution_count": 2,
   "metadata": {},
   "outputs": [
    {
     "name": "stdout",
     "output_type": "stream",
     "text": [
      "Defaulting to user installation because normal site-packages is not writeable\n",
      "Requirement already satisfied: mljar-supervised in /home/sverre/.local/lib/python3.10/site-packages (1.1.6)\n",
      "Requirement already satisfied: optuna>=2.7.0 in /home/sverre/.local/lib/python3.10/site-packages (from mljar-supervised) (3.5.0)\n",
      "Requirement already satisfied: category-encoders>=2.2.2 in /home/sverre/.local/lib/python3.10/site-packages (from mljar-supervised) (2.6.3)\n",
      "Requirement already satisfied: seaborn>=0.11.1 in /home/sverre/.local/lib/python3.10/site-packages (from mljar-supervised) (0.13.2)\n",
      "Requirement already satisfied: catboost>=0.24.4 in /home/sverre/.local/lib/python3.10/site-packages (from mljar-supervised) (1.2.3)\n",
      "Requirement already satisfied: scipy<=1.11.4,>=1.6.1 in /home/sverre/.local/lib/python3.10/site-packages (from mljar-supervised) (1.11.4)\n",
      "Requirement already satisfied: dtreeviz>=2.2.2 in /home/sverre/.local/lib/python3.10/site-packages (from mljar-supervised) (2.2.2)\n",
      "Requirement already satisfied: tabulate>=0.8.7 in /home/sverre/.local/lib/python3.10/site-packages (from mljar-supervised) (0.9.0)\n",
      "Requirement already satisfied: pandas>=2.0.0 in /home/sverre/.local/lib/python3.10/site-packages (from mljar-supervised) (2.2.1)\n",
      "Requirement already satisfied: shap>=0.42.1 in /home/sverre/.local/lib/python3.10/site-packages (from mljar-supervised) (0.45.0)\n",
      "Requirement already satisfied: typing-extensions in /home/sverre/.local/lib/python3.10/site-packages (from mljar-supervised) (4.10.0)\n",
      "Requirement already satisfied: matplotlib>=3.2.2 in /home/sverre/.local/lib/python3.10/site-packages (from mljar-supervised) (3.8.3)\n",
      "Requirement already satisfied: scikit-learn>=1.0 in /home/sverre/.local/lib/python3.10/site-packages (from mljar-supervised) (1.4.1.post1)\n",
      "Requirement already satisfied: joblib>=1.0.1 in /home/sverre/.local/lib/python3.10/site-packages (from mljar-supervised) (1.3.2)\n",
      "Requirement already satisfied: xgboost>=2.0.0 in /home/sverre/.local/lib/python3.10/site-packages (from mljar-supervised) (2.0.3)\n",
      "Requirement already satisfied: markdown in /home/sverre/.local/lib/python3.10/site-packages (from mljar-supervised) (3.6)\n",
      "Requirement already satisfied: lightgbm>=3.0.0 in /home/sverre/.local/lib/python3.10/site-packages (from mljar-supervised) (4.3.0)\n",
      "Requirement already satisfied: wordcloud>=1.8.1 in /home/sverre/.local/lib/python3.10/site-packages (from mljar-supervised) (1.9.3)\n",
      "Requirement already satisfied: numpy>=1.19.5 in /home/sverre/.local/lib/python3.10/site-packages (from mljar-supervised) (1.26.4)\n",
      "Requirement already satisfied: scikit-plot==0.3.7 in /home/sverre/.local/lib/python3.10/site-packages (from mljar-supervised) (0.3.7)\n",
      "Requirement already satisfied: ipython in /home/sverre/.local/lib/python3.10/site-packages (from mljar-supervised) (8.22.2)\n",
      "Requirement already satisfied: graphviz in /home/sverre/.local/lib/python3.10/site-packages (from catboost>=0.24.4->mljar-supervised) (0.20.1)\n",
      "Requirement already satisfied: six in /usr/lib/python3/dist-packages (from catboost>=0.24.4->mljar-supervised) (1.16.0)\n",
      "Requirement already satisfied: plotly in /home/sverre/.local/lib/python3.10/site-packages (from catboost>=0.24.4->mljar-supervised) (5.20.0)\n",
      "Requirement already satisfied: statsmodels>=0.9.0 in /home/sverre/.local/lib/python3.10/site-packages (from category-encoders>=2.2.2->mljar-supervised) (0.14.1)\n",
      "Requirement already satisfied: patsy>=0.5.1 in /home/sverre/.local/lib/python3.10/site-packages (from category-encoders>=2.2.2->mljar-supervised) (0.5.6)\n",
      "Requirement already satisfied: pytest in /home/sverre/.local/lib/python3.10/site-packages (from dtreeviz>=2.2.2->mljar-supervised) (8.1.1)\n",
      "Requirement already satisfied: colour in /home/sverre/.local/lib/python3.10/site-packages (from dtreeviz>=2.2.2->mljar-supervised) (0.1.5)\n",
      "Requirement already satisfied: kiwisolver>=1.3.1 in /home/sverre/.local/lib/python3.10/site-packages (from matplotlib>=3.2.2->mljar-supervised) (1.4.5)\n",
      "Requirement already satisfied: contourpy>=1.0.1 in /home/sverre/.local/lib/python3.10/site-packages (from matplotlib>=3.2.2->mljar-supervised) (1.2.0)\n",
      "Requirement already satisfied: packaging>=20.0 in /home/sverre/.local/lib/python3.10/site-packages (from matplotlib>=3.2.2->mljar-supervised) (24.0)\n",
      "Requirement already satisfied: cycler>=0.10 in /home/sverre/.local/lib/python3.10/site-packages (from matplotlib>=3.2.2->mljar-supervised) (0.12.1)\n",
      "Requirement already satisfied: pyparsing>=2.3.1 in /usr/lib/python3/dist-packages (from matplotlib>=3.2.2->mljar-supervised) (2.4.7)\n",
      "Requirement already satisfied: pillow>=8 in /usr/lib/python3/dist-packages (from matplotlib>=3.2.2->mljar-supervised) (9.0.1)\n",
      "Requirement already satisfied: python-dateutil>=2.7 in /home/sverre/.local/lib/python3.10/site-packages (from matplotlib>=3.2.2->mljar-supervised) (2.9.0.post0)\n",
      "Requirement already satisfied: fonttools>=4.22.0 in /home/sverre/.local/lib/python3.10/site-packages (from matplotlib>=3.2.2->mljar-supervised) (4.50.0)\n",
      "Requirement already satisfied: sqlalchemy>=1.3.0 in /home/sverre/.local/lib/python3.10/site-packages (from optuna>=2.7.0->mljar-supervised) (2.0.28)\n",
      "Requirement already satisfied: PyYAML in /usr/lib/python3/dist-packages (from optuna>=2.7.0->mljar-supervised) (5.4.1)\n",
      "Requirement already satisfied: tqdm in /home/sverre/.local/lib/python3.10/site-packages (from optuna>=2.7.0->mljar-supervised) (4.66.2)\n",
      "Requirement already satisfied: alembic>=1.5.0 in /home/sverre/.local/lib/python3.10/site-packages (from optuna>=2.7.0->mljar-supervised) (1.13.1)\n",
      "Requirement already satisfied: colorlog in /home/sverre/.local/lib/python3.10/site-packages (from optuna>=2.7.0->mljar-supervised) (6.8.2)\n",
      "Requirement already satisfied: tzdata>=2022.7 in /home/sverre/.local/lib/python3.10/site-packages (from pandas>=2.0.0->mljar-supervised) (2024.1)\n",
      "Requirement already satisfied: pytz>=2020.1 in /home/sverre/.local/lib/python3.10/site-packages (from pandas>=2.0.0->mljar-supervised) (2024.1)\n",
      "Requirement already satisfied: threadpoolctl>=2.0.0 in /home/sverre/.local/lib/python3.10/site-packages (from scikit-learn>=1.0->mljar-supervised) (3.3.0)\n",
      "Requirement already satisfied: slicer==0.0.7 in /home/sverre/.local/lib/python3.10/site-packages (from shap>=0.42.1->mljar-supervised) (0.0.7)\n",
      "Requirement already satisfied: cloudpickle in /home/sverre/.local/lib/python3.10/site-packages (from shap>=0.42.1->mljar-supervised) (3.0.0)\n",
      "Requirement already satisfied: numba in /home/sverre/.local/lib/python3.10/site-packages (from shap>=0.42.1->mljar-supervised) (0.59.0)\n",
      "Requirement already satisfied: matplotlib-inline in /home/sverre/.local/lib/python3.10/site-packages (from ipython->mljar-supervised) (0.1.6)\n",
      "Requirement already satisfied: traitlets>=5.13.0 in /home/sverre/.local/lib/python3.10/site-packages (from ipython->mljar-supervised) (5.14.2)\n",
      "Requirement already satisfied: jedi>=0.16 in /home/sverre/.local/lib/python3.10/site-packages (from ipython->mljar-supervised) (0.19.1)\n",
      "Requirement already satisfied: pygments>=2.4.0 in /home/sverre/.local/lib/python3.10/site-packages (from ipython->mljar-supervised) (2.17.2)\n",
      "Requirement already satisfied: stack-data in /home/sverre/.local/lib/python3.10/site-packages (from ipython->mljar-supervised) (0.6.3)\n",
      "Requirement already satisfied: decorator in /home/sverre/.local/lib/python3.10/site-packages (from ipython->mljar-supervised) (5.1.1)\n",
      "Requirement already satisfied: prompt-toolkit<3.1.0,>=3.0.41 in /home/sverre/.local/lib/python3.10/site-packages (from ipython->mljar-supervised) (3.0.43)\n",
      "Requirement already satisfied: pexpect>4.3 in /usr/lib/python3/dist-packages (from ipython->mljar-supervised) (4.8.0)\n",
      "Requirement already satisfied: exceptiongroup in /home/sverre/.local/lib/python3.10/site-packages (from ipython->mljar-supervised) (1.2.0)\n",
      "Requirement already satisfied: Mako in /home/sverre/.local/lib/python3.10/site-packages (from alembic>=1.5.0->optuna>=2.7.0->mljar-supervised) (1.3.2)\n",
      "Requirement already satisfied: parso<0.9.0,>=0.8.3 in /home/sverre/.local/lib/python3.10/site-packages (from jedi>=0.16->ipython->mljar-supervised) (0.8.3)\n",
      "Requirement already satisfied: wcwidth in /home/sverre/.local/lib/python3.10/site-packages (from prompt-toolkit<3.1.0,>=3.0.41->ipython->mljar-supervised) (0.2.13)\n",
      "Requirement already satisfied: greenlet!=0.4.17 in /home/sverre/.local/lib/python3.10/site-packages (from sqlalchemy>=1.3.0->optuna>=2.7.0->mljar-supervised) (3.0.3)\n",
      "Requirement already satisfied: llvmlite<0.43,>=0.42.0dev0 in /home/sverre/.local/lib/python3.10/site-packages (from numba->shap>=0.42.1->mljar-supervised) (0.42.0)\n",
      "Requirement already satisfied: tenacity>=6.2.0 in /home/sverre/.local/lib/python3.10/site-packages (from plotly->catboost>=0.24.4->mljar-supervised) (8.2.3)\n",
      "Requirement already satisfied: tomli>=1 in /home/sverre/.local/lib/python3.10/site-packages (from pytest->dtreeviz>=2.2.2->mljar-supervised) (2.0.1)\n",
      "Requirement already satisfied: pluggy<2.0,>=1.4 in /home/sverre/.local/lib/python3.10/site-packages (from pytest->dtreeviz>=2.2.2->mljar-supervised) (1.4.0)\n",
      "Requirement already satisfied: iniconfig in /home/sverre/.local/lib/python3.10/site-packages (from pytest->dtreeviz>=2.2.2->mljar-supervised) (2.0.0)\n",
      "Requirement already satisfied: executing>=1.2.0 in /home/sverre/.local/lib/python3.10/site-packages (from stack-data->ipython->mljar-supervised) (2.0.1)\n",
      "Requirement already satisfied: asttokens>=2.1.0 in /home/sverre/.local/lib/python3.10/site-packages (from stack-data->ipython->mljar-supervised) (2.4.1)\n",
      "Requirement already satisfied: pure-eval in /home/sverre/.local/lib/python3.10/site-packages (from stack-data->ipython->mljar-supervised) (0.2.2)\n",
      "Requirement already satisfied: MarkupSafe>=0.9.2 in /home/sverre/.local/lib/python3.10/site-packages (from Mako->alembic>=1.5.0->optuna>=2.7.0->mljar-supervised) (2.1.5)\n",
      "Note: you may need to restart the kernel to use updated packages.\n",
      "Defaulting to user installation because normal site-packages is not writeable\n",
      "Requirement already satisfied: scikit-learn in /home/sverre/.local/lib/python3.10/site-packages (1.4.1.post1)\n",
      "Requirement already satisfied: numpy<2.0,>=1.19.5 in /home/sverre/.local/lib/python3.10/site-packages (from scikit-learn) (1.26.4)\n",
      "Requirement already satisfied: joblib>=1.2.0 in /home/sverre/.local/lib/python3.10/site-packages (from scikit-learn) (1.3.2)\n",
      "Requirement already satisfied: scipy>=1.6.0 in /home/sverre/.local/lib/python3.10/site-packages (from scikit-learn) (1.11.4)\n",
      "Requirement already satisfied: threadpoolctl>=2.0.0 in /home/sverre/.local/lib/python3.10/site-packages (from scikit-learn) (3.3.0)\n",
      "Note: you may need to restart the kernel to use updated packages.\n"
     ]
    }
   ],
   "source": [
    "%pip install mljar-supervised\n",
    "%pip install scikit-learn"
   ]
  },
  {
   "cell_type": "code",
   "execution_count": 3,
   "metadata": {},
   "outputs": [],
   "source": [
    "%load_ext autoreload"
   ]
  },
  {
   "cell_type": "code",
   "execution_count": 4,
   "metadata": {},
   "outputs": [
    {
     "name": "stderr",
     "output_type": "stream",
     "text": [
      "/home/sverre/.local/lib/python3.10/site-packages/tqdm/auto.py:21: TqdmWarning: IProgress not found. Please update jupyter and ipywidgets. See https://ipywidgets.readthedocs.io/en/stable/user_install.html\n",
      "  from .autonotebook import tqdm as notebook_tqdm\n"
     ]
    }
   ],
   "source": [
    "%autoreload \n",
    "\n",
    "# Import the necessary libraries\n",
    "%matplotlib inline\n",
    "import warnings\n",
    "from datetime import datetime\n",
    "import numpy as np\n",
    "import pandas as pd\n",
    "from sklearn.metrics import accuracy_score \n",
    "from supervised.automl import AutoML\n",
    "\n",
    "pd.set_option('display.max_columns', 200)\n",
    "warnings.filterwarnings('ignore')\n",
    "\n",
    "from src.features.post_processor import save_predictions\n",
    "from src.features.ml_service import  prepare_data, prepare_test_data"
   ]
  },
  {
   "cell_type": "markdown",
   "metadata": {},
   "source": [
    "## Load data"
   ]
  },
  {
   "cell_type": "code",
   "execution_count": 5,
   "metadata": {},
   "outputs": [],
   "source": [
    "x_train, x_val, x_test, y_train, y_val, y_test = prepare_data()\n",
    "train_data = pd.concat([x_train, y_train], axis=1)"
   ]
  },
  {
   "cell_type": "markdown",
   "metadata": {},
   "source": [
    "## Train model"
   ]
  },
  {
   "cell_type": "code",
   "execution_count": 7,
   "metadata": {},
   "outputs": [
    {
     "name": "stdout",
     "output_type": "stream",
     "text": [
      "Linear algorithm was disabled.\n",
      "AutoML directory: AutoML_1\n",
      "The task is binary_classification with evaluation metric logloss\n",
      "AutoML will use algorithms: ['Baseline', 'Decision Tree', 'Random Forest', 'Xgboost', 'Neural Network']\n",
      "AutoML will ensemble available models\n",
      "AutoML steps: ['simple_algorithms', 'default_algorithms', 'ensemble']\n",
      "* Step simple_algorithms will try to check up to 2 models\n",
      "1_Baseline logloss 0.250002 trained in 1.24 seconds\n"
     ]
    }
   ],
   "source": [
    "\n",
    "# Initialize MLJAR AutoML\n",
    "automl = AutoML(mode=\"Explain\")  # You can also use mode like \"Perform\", \"Compete\" etc. based on your need\n",
    "\n",
    "# Train the model\n",
    "# MLJAR can handle DataFrame with target column, so you can concatenate your X and y\n",
    "\n",
    "# Fit the model\n",
    "automl.fit(train_data, y_train)  # y_train.name assumes y_train is a pandas Series with the name attribute set to the target column name\n"
   ]
  },
  {
   "cell_type": "markdown",
   "metadata": {},
   "source": [
    "## Make predictions"
   ]
  },
  {
   "cell_type": "code",
   "execution_count": null,
   "metadata": {},
   "outputs": [],
   "source": [
    "\n",
    "# To evaluate the model, you can use the AutoML `predict` method\n",
    "predictions = automl.predict(x_val)\n",
    "\n",
    "# Calculate accuracy or any other performance metric that you wish to use\n",
    "\n",
    "accuracy = accuracy_score(y_val, predictions)\n",
    "print(f\"Validation Accuracy: {accuracy}\")\n",
    "\n",
    "# MLJAR also provides a leaderboard with model performance\n",
    "automl.report()\n"
   ]
  },
  {
   "cell_type": "markdown",
   "metadata": {},
   "source": [
    "## Save model"
   ]
  },
  {
   "cell_type": "code",
   "execution_count": null,
   "metadata": {},
   "outputs": [],
   "source": [
    "x_test = prepare_test_data()\n",
    "final_predictions = automl.predict(x_test)\n",
    "save_predictions(final_predictions, 'mljar_automl')"
   ]
  }
 ],
 "metadata": {
  "kernelspec": {
   "display_name": "Python 3",
   "language": "python",
   "name": "python3"
  },
  "language_info": {
   "codemirror_mode": {
    "name": "ipython",
    "version": 3
   },
   "file_extension": ".py",
   "mimetype": "text/x-python",
   "name": "python",
   "nbconvert_exporter": "python",
   "pygments_lexer": "ipython3",
   "version": "3.10.12"
  }
 },
 "nbformat": 4,
 "nbformat_minor": 2
}
